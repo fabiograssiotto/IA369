{
 "cells": [
  {
   "cell_type": "markdown",
   "metadata": {},
   "source": [
    "### Nome: Fabio Grassiotto\n",
    "### RA: 890441\n",
    "### Disciplina: IA369Y, 2º S 2017\n",
    "\n",
    "### T3 - Análise e Síntese de Emoções em Conteúdo Multimídia\n",
    "### Atividade 6 - Tutorial: Emotion Recognition using Facial Landmarks, Python, DLib and OpenCV\n"
   ]
  },
  {
   "cell_type": "markdown",
   "metadata": {},
   "source": [
    "#### 1. Instalação da biblioteca DLib, utilizada para extração de marcos faciais.\n",
    "\n",
    "- Seguindo o tutorial, realizei o download e instalação da CMake e Boost-Python (biblioteca C++).\n",
    "- No Windows 10 não foi possível compilar a biblioteca Boost mesmo após instalar o Visual Studio 2015 para ter acesso a um compilador C/C++ e aos headers da SDK do Windows.\n",
    "- Uma vez instalado o compilador, foi possível compilar a biblioteca, mas ocorreram problemas de link com a DLib.\n",
    "- Encontrei no site da Boost binários pré-compilados. Com os mesmos, ainda não foi possível instalar a DLib.\n",
    "- Procurando pela internet, existe um pacote pronto para o ambiente Anaconda em Windows, o que foi utilizado para finalment instalar a DLib."
   ]
  },
  {
   "cell_type": "raw",
   "metadata": {},
   "source": [
    "conda install -c conda-forge dlib=19.4\n",
    "Fetching package metadata .............\n",
    "Solving package specifications: .\n",
    "\n",
    "The following NEW packages will be INSTALLED:\n",
    "\n",
    "    boost:     1.64.0-py36_vc14_4 conda-forge [vc14]\n",
    "    boost-cpp: 1.64.0-vc14_1      conda-forge [vc14]\n",
    "    dlib:      19.4-np113py36_201 conda-forge\n",
    "    mkl:       2017.0.3-0\n",
    "    numpy:     1.13.1-py36_0\n",
    "    vc:        14-0               conda-forge\n",
    "\n",
    "Proceed ([y]/n)? y\n",
    "\n",
    "mkl-2017.0.3-0 100% |###############################| Time: 0:01:00   2.20 MB/s\n",
    "vc-14-0.tar.bz 100% |###############################| Time: 0:00:00 166.89 kB/s\n",
    "boost-cpp-1.64 100% |###############################| Time: 0:00:14   2.01 MB/s\n",
    "numpy-1.13.1-p 100% |###############################| Time: 0:00:01   2.40 MB/s\n",
    "boost-1.64.0-p 100% |###############################| Time: 0:00:01 577.44 kB/s\n",
    "dlib-19.4-np11 100% |###############################| Time: 0:00:02 973.30 kB/s"
   ]
  },
  {
   "cell_type": "code",
   "execution_count": 15,
   "metadata": {},
   "outputs": [
    {
     "name": "stdout",
     "output_type": "stream",
     "text": [
      "19.4.0\n"
     ]
    }
   ],
   "source": [
    "import dlib\n",
    "print(dlib.__version__)"
   ]
  },
  {
   "cell_type": "markdown",
   "metadata": {},
   "source": [
    "Após executar o import, a dlib agora está disponível no Python.\n",
    "\n",
    "#### 2. Teste do detector de landmarks\n",
    "\n",
    "Ao executar o código do tutorial, o interpretador do Python acusa que a biblioteca cv2 (Open CV 3) não está disponível.\n",
    "Para Python 3.6, é necessário fazer o download do binário no site https://www.lfd.uci.edu/~gohlke/pythonlibs/#opencv e instalar manualmente:"
   ]
  },
  {
   "cell_type": "raw",
   "metadata": {},
   "source": [
    "pip install opencv_python-3.3.1-cp36-cp36m-win_amd64.whl\n",
    "Processing d:\\development\\libs\\opencv_python-3.3.1-cp36-cp36m-win_amd64.whl\n",
    "Installing collected packages: opencv-python\n",
    "Successfully installed opencv-python-3.3.1"
   ]
  },
  {
   "cell_type": "code",
   "execution_count": null,
   "metadata": {},
   "outputs": [],
   "source": [
    "import cv2\n",
    "print(cv2.__version__)"
   ]
  },
  {
   "cell_type": "markdown",
   "metadata": {},
   "source": [
    "O código abaixo foi então executado para capturar e "
   ]
  },
  {
   "cell_type": "code",
   "execution_count": null,
   "metadata": {
    "collapsed": true
   },
   "outputs": [],
   "source": [
    "#Import required modules\n",
    "import cv2\n",
    "import dlib\n",
    "\n",
    "#Set up some required objects\n",
    "video_capture = cv2.VideoCapture(0) #Webcam object\n",
    "detector = dlib.get_frontal_face_detector() #Face detector\n",
    "predictor = dlib.shape_predictor(\"shape_predictor_68_face_landmarks.dat\") #Landmark identifier. Set the filename to whatever you named the downloaded file\n",
    "\n",
    "while True:\n",
    "    ret, frame = video_capture.read()\n",
    "    gray = cv2.cvtColor(frame, cv2.COLOR_BGR2GRAY)\n",
    "    clahe = cv2.createCLAHE(clipLimit=2.0, tileGridSize=(8,8))\n",
    "    clahe_image = clahe.apply(gray)\n",
    "\n",
    "    detections = detector(clahe_image, 1) #Detect the faces in the image\n",
    "\n",
    "    for k,d in enumerate(detections): #For each detected face\n",
    "        \n",
    "        shape = predictor(clahe_image, d) #Get coordinates\n",
    "        for i in range(1,68): #There are 68 landmark points on each face\n",
    "            cv2.circle(frame, (shape.part(i).x, shape.part(i).y), 1, (0,0,255), thickness=2) #For each point, draw a red circle with thickness2 on the original frame\n",
    "\n",
    "    cv2.imshow(\"image\", frame) #Display the frame\n",
    "\n",
    "    if cv2.waitKey(1) & 0xFF == ord('q'): #Exit program when the user presses 'q'\n",
    "        break"
   ]
  },
  {
   "cell_type": "markdown",
   "metadata": {},
   "source": [
    "![title](facedetect.jpg)"
   ]
  },
  {
   "cell_type": "markdown",
   "metadata": {},
   "source": [
    "#### 3. Extração de features de rostos\n",
    "\n"
   ]
  }
 ],
 "metadata": {
  "kernelspec": {
   "display_name": "Python 3",
   "language": "python",
   "name": "python3"
  },
  "language_info": {
   "codemirror_mode": {
    "name": "ipython",
    "version": 3
   },
   "file_extension": ".py",
   "mimetype": "text/x-python",
   "name": "python",
   "nbconvert_exporter": "python",
   "pygments_lexer": "ipython3",
   "version": "3.6.2"
  }
 },
 "nbformat": 4,
 "nbformat_minor": 2
}
