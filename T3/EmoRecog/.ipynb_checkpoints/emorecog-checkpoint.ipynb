{
 "cells": [
  {
   "cell_type": "markdown",
   "metadata": {},
   "source": [
    "### Nome: Fabio Grassiotto\n",
    "### RA: 890441\n",
    "### Disciplina: IA369Y, 2º S 2017\n",
    "\n",
    "### T3 - Análise e Síntese de Emoções em Conteúdo Multimídia\n",
    "### Atividade 6 - Tutorial: Emotion Recognition using Facial Landmarks, Python, DLib and OpenCV\n"
   ]
  },
  {
   "cell_type": "markdown",
   "metadata": {},
   "source": [
    "#### Primeira etapa: Instalação da biblioteca DLib, utilizada para extração de marcos faciais.\n",
    "\n",
    "Seguindo o tutorial, realizei a instalação "
   ]
  }
 ],
 "metadata": {
  "kernelspec": {
   "display_name": "Python 3",
   "language": "python",
   "name": "python3"
  },
  "language_info": {
   "codemirror_mode": {
    "name": "ipython",
    "version": 3
   },
   "file_extension": ".py",
   "mimetype": "text/x-python",
   "name": "python",
   "nbconvert_exporter": "python",
   "pygments_lexer": "ipython3",
   "version": "3.6.2"
  }
 },
 "nbformat": 4,
 "nbformat_minor": 2
}
